{
 "cells": [
  {
   "cell_type": "code",
   "execution_count": 1,
   "metadata": {
    "collapsed": false
   },
   "outputs": [],
   "source": [
    "import os; os.environ[\"CUDA_VISIBLE_DEVICES\"] = ''\n",
    "import sys\n",
    "sys.path.append('../../')\n",
    "import numpy as np\n",
    "import sexpdata\n",
    "\n",
    "from models_vqa.nmn3_assembler import Assembler"
   ]
  },
  {
   "cell_type": "code",
   "execution_count": 2,
   "metadata": {
    "collapsed": true
   },
   "outputs": [],
   "source": [
    "def extract_parse(p):\n",
    "    if isinstance(p, sexpdata.Symbol):\n",
    "        return p.value()\n",
    "    elif isinstance(p, int):\n",
    "        return str(p)\n",
    "    elif isinstance(p, bool):\n",
    "        return str(p).lower()\n",
    "    elif isinstance(p, float):\n",
    "        return str(p).lower()\n",
    "    return tuple(extract_parse(q) for q in p)\n",
    "\n",
    "def parse_tree(p):\n",
    "    if \"'\" in p:\n",
    "        p = \"none\"\n",
    "    parsed = sexpdata.loads(p)\n",
    "    extracted = extract_parse(parsed)\n",
    "    return extracted\n",
    "\n",
    "parse2module_dict = {\n",
    "    'find': '_Find',\n",
    "    'relate': '_Transform',\n",
    "    'and': '_And',\n",
    "    'is': '_Describe', # All the top modules go to '_Describe'\n",
    "    'describe': '_Describe'\n",
    "}\n",
    "def flatten_layout(parse):\n",
    "    # Postorder traversal to generate Reverse Polish Notation (RPN)\n",
    "    if isinstance(parse, str):\n",
    "        return [parse2module_dict[parse]]\n",
    "    RPN = []\n",
    "    head = parse[0]\n",
    "    body = parse[1:]\n",
    "    module = parse2module_dict[head]\n",
    "    for m in body:\n",
    "        RPN += flatten_layout(m)\n",
    "    RPN += [module]\n",
    "    return RPN"
   ]
  },
  {
   "cell_type": "code",
   "execution_count": 3,
   "metadata": {
    "collapsed": false
   },
   "outputs": [],
   "source": [
    "qid_file = './parse/new_parse/%s.ids.txt'\n",
    "parse_file = './parse/new_parse/%s.questions.sp'\n",
    "save_file = './gt_layout_%s_new_parse.npy'\n",
    "\n",
    "assembler = Assembler('./vocabulary_layout.txt')\n",
    "\n",
    "def extract_set(image_set):\n",
    "    with open(qid_file % image_set) as f:\n",
    "        qids = [eval(s)[0] for s in f.readlines()]\n",
    "    with open(parse_file % image_set) as f:\n",
    "        layouts = [flatten_layout(parse_tree(l)) for l in f.readlines()]\n",
    "        \n",
    "    layout_set = {tuple(l) for l in layouts}\n",
    "    print('found %d unique layouts on split %s' % (len(layout_set), image_set))\n",
    "    for l in layout_set:\n",
    "        print(' ', ' '.join(list(l)))\n",
    "    # check whether the layout is valid\n",
    "    for l in layout_set:\n",
    "        batch = np.array(assembler.module_list2tokens(l, T=20))[:, np.newaxis]\n",
    "        expr, validity = assembler.assemble(batch)\n",
    "        if not np.all(validity):\n",
    "            raise Exception('invalid expr:' + str(expr[0]))\n",
    "    \n",
    "    qid2layout_dict = {qid:layout for qid, layout in zip(qids, layouts)}\n",
    "    np.save(save_file % image_set, np.array(qid2layout_dict))\n",
    "    \n",
    "    set_layout_length = [len(l) for l in layouts]\n",
    "    return set_layout_length"
   ]
  },
  {
   "cell_type": "code",
   "execution_count": 4,
   "metadata": {
    "collapsed": false
   },
   "outputs": [
    {
     "name": "stdout",
     "output_type": "stream",
     "text": [
      "found 24 unique layouts on split train2014\n",
      "  _Find _Transform _Find _Find _And _Transform _And _Transform _Describe\n",
      "  _Find _Find _And _Describe\n",
      "  _Find _Find _And _Transform _Find _And _Describe\n",
      "  _Find _Find _Find _Transform _And _Transform _And _Describe\n",
      "  _Find _Find _Find _Transform _Transform _And _Transform _And _Describe\n",
      "  _Find _Transform _Transform _Find _Transform _And _Describe\n",
      "  _Find _Transform _Transform _Find _And _Describe\n",
      "  _Find _Find _Find _And _Transform _Find _And _Transform _And _Describe\n",
      "  _Find _Find _Find _And _Transform _And _Describe\n",
      "  _Find _Transform _Describe\n",
      "  _Find _Find _Find _And _Transform _Find _Transform _And _Transform _And _Describe\n",
      "  _Find _Transform _Transform _Describe\n",
      "  _Find _Find _Transform _And _Transform _Describe\n",
      "  _Find _Find _Transform _And _Describe\n",
      "  _Find _Find _And _Transform _Describe\n",
      "  _Find _Find _Find _Find _And _Transform _And _Transform _And _Describe\n",
      "  _Find _Find _Transform _Find _And _Transform _And _Describe\n",
      "  _Find _Find _Transform _Transform _And _Describe\n",
      "  _Find _Find _Find _Transform _And _Transform _Find _Transform _And _Transform _And _Describe\n",
      "  _Find _Describe\n",
      "  _Find _Transform _Find _Transform _And _Transform _Describe\n",
      "  _Find _Find _Transform _Find _Transform _And _Transform _And _Describe\n",
      "  _Find _Transform _Find _And _Describe\n",
      "  _Find _Transform _Find _Transform _And _Describe\n",
      "found 24 unique layouts on split val2014\n",
      "  _Find _Find _And _Describe\n",
      "  _Find _Find _And _Transform _Find _And _Describe\n",
      "  _Find _Find _Find _Transform _And _Transform _And _Describe\n",
      "  _Find _Find _Find _Transform _Transform _And _Transform _And _Describe\n",
      "  _Find _Transform _Transform _Find _Transform _And _Describe\n",
      "  _Find _Transform _Transform _Find _And _Describe\n",
      "  _Find _Find _Find _And _Transform _Find _And _Transform _And _Describe\n",
      "  _Find _Find _Find _And _Transform _And _Describe\n",
      "  _Find _Transform _Describe\n",
      "  _Find _Find _And _Transform _Transform _Describe\n",
      "  _Find _Find _Find _And _Transform _Find _Transform _And _Transform _And _Describe\n",
      "  _Find _Transform _Transform _Describe\n",
      "  _Find _Find _Transform _And _Transform _Describe\n",
      "  _Find _Find _Transform _Find _Transform _Transform _And _Transform _And _Describe\n",
      "  _Find _Find _Transform _And _Describe\n",
      "  _Find _Find _And _Transform _Describe\n",
      "  _Find _Find _Transform _Find _And _Transform _And _Describe\n",
      "  _Find _Find _Transform _Transform _And _Describe\n",
      "  _Find _Describe\n",
      "  _Find _Transform _Find _Transform _And _Transform _Describe\n",
      "  _Find _Find _Transform _Find _Transform _And _Transform _And _Describe\n",
      "  _Find _Transform _Find _And _Describe\n",
      "  _Find _Transform _Find _Transform _And _Describe\n",
      "  _Find _Transform _Transform _Transform _Describe\n"
     ]
    }
   ],
   "source": [
    "layout_length = []  # collect results on layout length\n",
    "for image_set in ['train2014', 'val2014']:\n",
    "    layout_length += extract_set(image_set)"
   ]
  },
  {
   "cell_type": "code",
   "execution_count": 5,
   "metadata": {
    "collapsed": false
   },
   "outputs": [
    {
     "name": "stdout",
     "output_type": "stream",
     "text": [
      "max layout length: 12\n"
     ]
    },
    {
     "data": {
      "image/png": "[encoded data removed]",
      "text/plain": [
       "<matplotlib.figure.Figure at 0x7fc2401adc18>"
      ]
     },
     "metadata": {},
     "output_type": "display_data"
    }
   ],
   "source": [
    "import matplotlib.pyplot as plt\n",
    "%matplotlib inline\n",
    "print('max layout length:', max(layout_length))\n",
    "_ = plt.hist(layout_length)"
   ]
  }
 ],
 "metadata": {
  "anaconda-cloud": {},
  "kernelspec": {
   "display_name": "Python [default]",
   "language": "python",
   "name": "python3"
  },
  "language_info": {
   "codemirror_mode": {
    "name": "ipython",
    "version": 3
   },
   "file_extension": ".py",
   "mimetype": "text/x-python",
   "name": "python",
   "nbconvert_exporter": "python",
   "pygments_lexer": "ipython3",
   "version": "3.5.1"
  }
 },
 "nbformat": 4,
 "nbformat_minor": 1
}
