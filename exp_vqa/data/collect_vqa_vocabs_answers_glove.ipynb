{
 "cells": [
  {
   "cell_type": "code",
   "execution_count": 1,
   "metadata": {
    "collapsed": false
   },
   "outputs": [],
   "source": [
    "import numpy as np\n",
    "import json\n",
    "import re\n",
    "from collections import defaultdict\n",
    "import spacy\n",
    "import matplotlib.pyplot as plt\n",
    "%matplotlib inline"
   ]
  },
  {
   "cell_type": "code",
   "execution_count": 2,
   "metadata": {
    "collapsed": false
   },
   "outputs": [],
   "source": [
    "annotation_file = '../vqa-dataset/Annotations/mscoco_%s_annotations.json'\n",
    "annotation_sets = ['train2014', 'val2014']\n",
    "question_file = '../vqa-dataset/Questions/OpenEnded_mscoco_%s_questions.json'\n",
    "question_sets = ['train2014', 'val2014', 'test-dev2015', 'test2015']\n",
    "\n",
    "vocab_file = './vocabulary_vqa.txt'\n",
    "answer_file = './answers_vqa.txt'\n",
    "glove_mat_file = './vocabulary_vqa_glove.npy'\n",
    "\n",
    "num_answers = 3000"
   ]
  },
  {
   "cell_type": "code",
   "execution_count": 3,
   "metadata": {
    "collapsed": false
   },
   "outputs": [
    {
     "name": "stdout",
     "output_type": "stream",
     "text": [
      "total answer num: 121928, keeping top 3000\n"
     ]
    }
   ],
   "source": [
    "answer_counts = defaultdict(lambda: 0)\n",
    "for image_set in annotation_sets:\n",
    "    with open(annotation_file % image_set) as f:\n",
    "        annotations = json.load(f)[\"annotations\"]\n",
    "    for ann in annotations:\n",
    "        for answer in ann[\"answers\"]:\n",
    "#             if answer[\"answer_confidence\"] != \"yes\":\n",
    "#                 continue\n",
    "            word = answer[\"answer\"]\n",
    "            if re.search(r\"[^\\w\\s]\", word):\n",
    "                continue\n",
    "            answer_counts[word] += 1\n",
    "\n",
    "top_answers = sorted(answer_counts, key=answer_counts.get, reverse=True)\n",
    "print('total answer num: %d, keeping top %d' % (len(top_answers), num_answers))\n",
    "# add a <unk> symbol to represent the unseen answers.\n",
    "assert('<unk>' not in top_answers)\n",
    "answer_list = ['<unk>'] + top_answers[:num_answers]"
   ]
  },
  {
   "cell_type": "code",
   "execution_count": 4,
   "metadata": {
    "collapsed": false
   },
   "outputs": [
    {
     "name": "stdout",
     "output_type": "stream",
     "text": [
      "total word num: 17742, keeping all\n"
     ]
    }
   ],
   "source": [
    "vocab_set = set()\n",
    "SENTENCE_SPLIT_REGEX = re.compile(r'(\\W+)')\n",
    "question_length = []\n",
    "for image_set in question_sets:\n",
    "    with open(question_file % image_set) as f:\n",
    "        questions = json.load(f)['questions']\n",
    "    set_question_length = [None]*len(questions)\n",
    "    for n_q, q in enumerate(questions):\n",
    "        words = SENTENCE_SPLIT_REGEX.split(q['question'].lower())\n",
    "        words = [w.strip() for w in words if len(w.strip()) > 0]\n",
    "        vocab_set.update(words)\n",
    "        set_question_length[n_q] = len(words)\n",
    "    question_length += set_question_length\n",
    "\n",
    "# although we've collected all words in the dataset,\n",
    "# still add a <unk> for future-proof\n",
    "vocab_set.add('<unk>')\n",
    "print('total word num: %d, keeping all' % len(vocab_set))\n",
    "vocab_list = list(vocab_set)\n",
    "vocab_list.sort()"
   ]
  },
  {
   "cell_type": "code",
   "execution_count": 5,
   "metadata": {
    "collapsed": false
   },
   "outputs": [],
   "source": [
    "with open(vocab_file, 'w') as f:\n",
    "    f.writelines([w+'\\n' for w in vocab_list])\n",
    "with open(answer_file, 'w') as f:\n",
    "    f.writelines([w+'\\n' for w in answer_list])"
   ]
  },
  {
   "cell_type": "code",
   "execution_count": 6,
   "metadata": {
    "collapsed": false
   },
   "outputs": [],
   "source": [
    "# Collect glove vectors for the words\n",
    "glove_dim = 300\n",
    "glove_mat = np.zeros((len(vocab_list), glove_dim), np.float32)\n",
    "nlp = spacy.load('en', vectors='en_glove_cc_300_1m_vectors')\n",
    "for n, w in enumerate(vocab_list):\n",
    "    glove_mat[n] = nlp(w).vector\n",
    "np.save(glove_mat_file, glove_mat)"
   ]
  },
  {
   "cell_type": "code",
   "execution_count": 7,
   "metadata": {
    "collapsed": false
   },
   "outputs": [
    {
     "name": "stdout",
     "output_type": "stream",
     "text": [
      "maximum question length: 26\n"
     ]
    },
    {
     "data": {
      "image/png": "[encoded data removed]",
      "text/plain": [
       "<matplotlib.figure.Figure at 0x7ff1307d6588>"
      ]
     },
     "metadata": {},
     "output_type": "display_data"
    }
   ],
   "source": [
    "_ = plt.hist(question_length, bins=20)\n",
    "print('maximum question length:', np.max(question_length))"
   ]
  }
 ],
 "metadata": {
  "anaconda-cloud": {},
  "kernelspec": {
   "display_name": "Python [default]",
   "language": "python",
   "name": "python3"
  },
  "language_info": {
   "codemirror_mode": {
    "name": "ipython",
    "version": 3
   },
   "file_extension": ".py",
   "mimetype": "text/x-python",
   "name": "python",
   "nbconvert_exporter": "python",
   "pygments_lexer": "ipython3",
   "version": "3.5.1"
  }
 },
 "nbformat": 4,
 "nbformat_minor": 1
}
